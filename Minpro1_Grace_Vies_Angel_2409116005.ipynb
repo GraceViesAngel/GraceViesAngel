{
  "nbformat": 4,
  "nbformat_minor": 0,
  "metadata": {
    "colab": {
      "provenance": [],
      "authorship_tag": "ABX9TyNTqGVd/5RSkjCWbVYNYHmH",
      "include_colab_link": true
    },
    "kernelspec": {
      "name": "python3",
      "display_name": "Python 3"
    },
    "language_info": {
      "name": "python"
    }
  },
  "cells": [
    {
      "cell_type": "markdown",
      "metadata": {
        "id": "view-in-github",
        "colab_type": "text"
      },
      "source": [
        "<a href=\"https://colab.research.google.com/github/GraceViesAngel/GraceViesAngel/blob/main/Minpro1_Grace_Vies_Angel_2409116005.ipynb\" target=\"_parent\"><img src=\"https://colab.research.google.com/assets/colab-badge.svg\" alt=\"Open In Colab\"/></a>"
      ]
    },
    {
      "cell_type": "markdown",
      "source": [
        "**Studi Kasus**"
      ],
      "metadata": {
        "id": "pLVC2JfXHQ5p"
      }
    },
    {
      "cell_type": "markdown",
      "source": [
        "Studi kasus ini menganalisis pengeluaran mahasiswa dengan bertujuan untuk memahami pola belanja mereka dalam berbagai kategori seperti makanan, hiburan, transportasi, dan kebutuhan akademik. Dengan memahami pola ini, akan dapata mengidentifikasi faktor-faktor yang mempengaruhi kebiasaan pengeluaran mahasiswa dan memberikan rekomendasi yang lebih baik kepada penyedia layanan keuangan atau bahkan institusi pendidikan dalam mengelola keuangan mahasiswa. Oleh karena itu, penting untuk mahasiswa memahami pola pengeluarannya mereka masing-masing ada beberapa permasalahan dalam studi kasus tersebut sseprti keteseimbangan antara pendapatan dan pengeluaran, kurangnya kesadaran literasi keuangan. Oleh karena itu solusi untuk mengatasi permasalahan ini dengan analisis data eksploratif untuk mengidentifikasi pola pengeluaran berdasarkan kategori, jurusan, dan faktor lainnya. Dengan memahami tren ini, mahasiswa dapat lebih sadar terhadap kebiasaan belanja mereka."
      ],
      "metadata": {
        "id": "HT_rnGFXH0rC"
      }
    },
    {
      "cell_type": "markdown",
      "source": [
        "**BUSINESS UNDERSTANDING**"
      ],
      "metadata": {
        "id": "KBy-idXFCKYZ"
      }
    },
    {
      "cell_type": "markdown",
      "source": [
        "**Business Objective**"
      ],
      "metadata": {
        "id": "ty4CbLrXCqC_"
      }
    },
    {
      "cell_type": "markdown",
      "source": [
        "Tujuan utama proyek saya adalah mendapatkan wawasan tentang kebiasaan mahasiswa dalam pengeluarannya dari berbagai latar belakang demografi dan akademis mereka masing-masing. Dengan menggunakan dataset ini, saya bisa mengidentifikasi pola pengeluaran berdasarkan faktor seperti usia, jenis kelamin, tahun studi, jurusan, pendapatan bulanan, serta bantuan keuangan yang diterima mereka masing-masing. Oleh karena itu hasil dari analisis dataset ini, dapat dikembangkannya startegi yang membantu mahasiswa dalam mengelola keuangan mereka dengan lebih baik lagi, institusi pendidikan yang mau memahami kebutuhan dari mahasiswa, serta membantu mahasiswa dalam membuat keputusan keuangan mereka.\n",
        "\n",
        "\n",
        "\n"
      ],
      "metadata": {
        "id": "PtKubQr1C1pH"
      }
    },
    {
      "cell_type": "markdown",
      "source": [
        "**Assess Situation**"
      ],
      "metadata": {
        "id": "XBbuCI3VgeLN"
      }
    },
    {
      "cell_type": "markdown",
      "source": [
        "Lingkungan ekonomi dan sosial setiap mahasiswa sangat mempengaruhi mereka, bagaimana mahasiswa membelanjakan uang mereka. Biaya hidup yang meningkat, perkembangan teknologi seperti pembayaran digital, dan perbedaan latar belakang sosial ekonomi mereka menjadi faktor utama yang sangat mempengaruhi pengeluaran mereka, contohnya seperti perbedaan pada bidang studi; mahasiswa teknik mungkin lebih banyak menghabiskan uang untuk perangkat teknologi, sedangkan mahasiswa seni lebih banyak membeli perlengkapan kreatif, jadi masih banyak mahasiswa yang masih menghadapi tantangan dalam mengelola keuangan mereka.  "
      ],
      "metadata": {
        "id": "XuGMyr8Sg06P"
      }
    },
    {
      "cell_type": "markdown",
      "source": [
        "**Data Mining Goals**"
      ],
      "metadata": {
        "id": "KptQkuXsnao1"
      }
    },
    {
      "cell_type": "markdown",
      "source": [
        "Proyek ini bertujuan untuk menganalisis pola pengeluaran mahasiswa dengan menggunakan teknik analitika data dan visualisasi.Dengan dataset yang memberikan informasi seperti demografi, akdemik, seta kategori pengeluaran, pendekatan analitis akan digunakan untuk menemukan pola tersembunyi dan hubungan antara variabel-variabel yang ada. Contohnya seperti melakukan eksplorasi data untuk mengidentifikasi distribusi pengeluaran mahasiswa berdasarkan usia, jenis kelamin, tahun studi, dan jurusan. Dengan metode eksplorasi, kita dapat memahami bagaimana setiap mahasiswa memiliki perbedaan dalam pola belanja mereka. Segmentasi atau clustering juga akan digunakan untuk mengelompokkan mahasiswa berdasarkan pola pengeluaran mereka, contohnya seperti mahasiswa yang lebih banyak menghabiskan uang untuk kebutuhan akademik dibandingkan dengan hiburan, atau sebaliknya. Proyek ini bertujuan tidak hanya memahami kebiasaan pengeluaran mahasiswa tetapi juga memberikan wawasan yang dapat digunakan untuk meningkatkan kesadaran finansial dan membantu mahasiswa dalam mengelola anggaran mereka dengan lebih bijak lagi.         "
      ],
      "metadata": {
        "id": "Anr0BviOngnA"
      }
    },
    {
      "cell_type": "markdown",
      "source": [
        "**Project Plan**"
      ],
      "metadata": {
        "id": "5MZBoRk2unkk"
      }
    },
    {
      "cell_type": "markdown",
      "source": [
        "Proyek ini akan memberikan pemahaman akan pengeluaran mahasiswa berdasarkan  dataset yang saya pakai. proses ini akan dibagi menjadi beberapa tahapan yang pertama adalah pengumpulan data dan pemahaman dataset, dimana dataset dari kaggle akan dieksplorasi untuk memahami sturktur data, jenis variabel, serta hubungan antar atribut. Dataset ini mencakup informasi seperti usia, jenis kelamin, tahun studi dan jurusan, serta faktor ekenomi seperti pendapatan bulanan, bantuan keuangan, dan pengeluaran dalam berbagai kategori. Pada tahap ini, saya akan melalukan analisis deskriptif awal untuk mendapatkan gambaran umum tentang distribusi data dan kemungkinan ketidakseimbangan atau anomali dalam dataset.Setelah tahap pertama diperoleh langkah berikutnya yaitu pemrosesan data, yang mencakup penangan data yang hilang atau tidak valid, serta pengkodean variabel kategori agar siap untuk analisis lebih lanjut. Selain itu, deteksi dan penanganan outlier akan dilakukan untuk memastikan bahwa data yang digunakan dalam analisis tetap akurat.Setelah tahap pemrosesan data yaitu eksplorasi data dan analisis statistik, analisis ini mencakup distribusi pengeluaran berdasarkan kategori, perbandingan pengeluaran mahasiswa yang memiliki latar belakang yang berbeda, serta korelasi antara pendapatan, bantuan keuangan ,dan total pengeluaran. Dengan analisis ini, proyek ini dapat membantu mahasiswa dalam pengambilan keputusan berbasis data untuk meningkatkan strategi penganggaran mahasiswa secara lebih efektif"
      ],
      "metadata": {
        "id": "Aj92XMVVuwNr"
      }
    }
  ]
}